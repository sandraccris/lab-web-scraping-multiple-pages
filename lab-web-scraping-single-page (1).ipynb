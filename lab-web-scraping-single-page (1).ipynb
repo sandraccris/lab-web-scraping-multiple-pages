{
 "cells": [
  {
   "cell_type": "markdown",
   "id": "97853555",
   "metadata": {},
   "source": [
    "**Scenario**\n",
    "\n",
    "You have been hired as a Data Analyst for \"Gnod\".\n",
    "\n",
    "\"Gnod\" is a site that provides recommendations for music, art, literature and products based on collaborative filtering algorithms. Their flagship product is the music recommender, which you can try at www.gnoosic.com. The site asks users to input 3 bands they like, and computes similarity scores with the rest of the users. Then, they recommend to the user bands that users with similar tastes have picked.\n",
    "\n",
    "\"Gnod\" is a small company, and its only revenue stream so far are adds in the site. In the future, they would like to explore partnership options with music apps (such as Deezer, Soundcloud or even Apple Music and Spotify). However, for that to be possible, they need to expand and improve their recommendations.\n",
    "\n",
    "That's precisely where you come. They have hired you as a Data Analyst, and they expect you to bring a mix of technical expertise and business mindset to the table.\n"
   ]
  },
  {
   "cell_type": "markdown",
   "id": "6d9c801e",
   "metadata": {},
   "source": [
    "**The goal of the company (Gnod)**: Explore partnership options with music apps(Deezer, Soundcloud, Apple Music, Spotify etc.)\n",
    "\n",
    "**Their current product (Gnoosic)**: Music Recommender (asks users to input 3 bands they like, and computes similarity scores with the rest of the users. Then, they recommend to the user bands that users with similar tastes have picked).\n",
    "\n",
    "**How your project fits into this context**: Expand and improve music recommendations. Enhance song recommendations (not only bands)."
   ]
  },
  {
   "cell_type": "markdown",
   "id": "6b7b36ab",
   "metadata": {},
   "source": [
    "## **Instructions - Scraping popular songs**\n",
    "\n",
    "Your product will take a song as an input from the user and will output another song (the recommendation). In most cases, the recommended song will have to be similar to the inputted song, but the CTO thinks that if the song is on the top charts at the moment, the user will enjoy more a recommendation of a song that's also popular at the moment.\n",
    "\n",
    "You have find data on the internet about currently popular songs. Billboard maintains a weekly Top 100 of \"hot\" songs here: https://www.billboard.com/charts/hot-100."
   ]
  },
  {
   "cell_type": "markdown",
   "id": "5e09d112",
   "metadata": {},
   "source": [
    "### 1. Scrape the current top 100 songs and their respective artists, and put the information into a pandas dataframe."
   ]
  },
  {
   "cell_type": "code",
   "execution_count": 1,
   "id": "46543f13",
   "metadata": {},
   "outputs": [],
   "source": [
    "import requests\n",
    "import pandas as pd\n",
    "from bs4 import BeautifulSoup"
   ]
  },
  {
   "cell_type": "code",
   "execution_count": 2,
   "id": "ad0e935c",
   "metadata": {},
   "outputs": [],
   "source": [
    "## Getting the html code of the web page\n",
    "url = \"https://www.billboard.com/charts/hot-100/\""
   ]
  },
  {
   "cell_type": "code",
   "execution_count": 3,
   "id": "933da6c4",
   "metadata": {},
   "outputs": [
    {
     "data": {
      "text/plain": [
       "<Response [200]>"
      ]
     },
     "execution_count": 3,
     "metadata": {},
     "output_type": "execute_result"
    }
   ],
   "source": [
    "## Getting the html code of the web page\n",
    "response = requests.get(url)\n",
    "response # 200 status code means OK!"
   ]
  },
  {
   "cell_type": "code",
   "execution_count": 4,
   "id": "32b8c1ca",
   "metadata": {
    "scrolled": false
   },
   "outputs": [],
   "source": [
    "## Parsing the html code\n",
    "soup = BeautifulSoup(response.content, \"html.parser\")\n",
    "#soup"
   ]
  },
  {
   "cell_type": "code",
   "execution_count": 5,
   "id": "94f1261b",
   "metadata": {},
   "outputs": [],
   "source": [
    "#creating 2 empty lists\n",
    "songs=[]\n",
    "artists=[]"
   ]
  },
  {
   "cell_type": "code",
   "execution_count": 6,
   "id": "2258f61a",
   "metadata": {},
   "outputs": [],
   "source": [
    "# First song (rest of the songs have a different htlm code!)\n",
    "first_song=soup.find('h3').get_text(strip=True)\n",
    "songs.append(first_song)"
   ]
  },
  {
   "cell_type": "code",
   "execution_count": 7,
   "id": "5dc98fba",
   "metadata": {},
   "outputs": [],
   "source": [
    "# rest of the songs\n",
    "song_titles=soup.find_all(\"h3\", attrs={\"class\": \"c-title a-no-trucate a-font-primary-bold-s u-letter-spacing-0021 lrv-u-font-size-18@tablet lrv-u-font-size-16 u-line-height-125 u-line-height-normal@mobile-max a-truncate-ellipsis u-max-width-330 u-max-width-230@tablet-only\"})\n",
    "#song_titles"
   ]
  },
  {
   "cell_type": "code",
   "execution_count": 8,
   "id": "f3804feb",
   "metadata": {
    "scrolled": true
   },
   "outputs": [
    {
     "data": {
      "text/plain": [
       "['Last Night',\n",
       " 'Flowers',\n",
       " 'Fast Car',\n",
       " 'Calm Down',\n",
       " 'All My Life',\n",
       " 'Favorite Song',\n",
       " 'Kill Bill',\n",
       " \"Creepin'\",\n",
       " 'Karma',\n",
       " 'Ella Baila Sola',\n",
       " 'Sure Thing',\n",
       " 'Anti-Hero',\n",
       " 'Die For You',\n",
       " 'Something In The Orange',\n",
       " 'Snooze',\n",
       " 'La Bebe',\n",
       " 'Where She Goes',\n",
       " 'Un x100to',\n",
       " 'Need A Favor',\n",
       " 'Search & Rescue',\n",
       " 'You Proof',\n",
       " \"Thinkin' Bout Me\",\n",
       " 'Chemical',\n",
       " 'Cupid',\n",
       " 'Rock And A Hard Place',\n",
       " 'Eyes Closed',\n",
       " \"Boy's A Liar, Pt. 2\",\n",
       " 'Next Thing You Know',\n",
       " 'Put It On Da Floor Again',\n",
       " 'Thought You Should Know',\n",
       " \"I'm Good (Blue)\",\n",
       " 'Dance The Night',\n",
       " 'Area Codes',\n",
       " \"Dancin' In The Country\",\n",
       " 'One Thing At A Time',\n",
       " 'Memory Lane',\n",
       " 'Bzrp Music Sessions, Vol. 55',\n",
       " 'Tennessee Orange',\n",
       " 'Cruel Summer',\n",
       " 'TQM',\n",
       " 'Stand By Me',\n",
       " 'Religiously',\n",
       " 'Dial Drunk',\n",
       " 'Under The Influence',\n",
       " 'Players',\n",
       " 'Calling',\n",
       " 'Annihilate',\n",
       " 'Take Two',\n",
       " 'Love You Anyway',\n",
       " 'Thank God',\n",
       " 'Am I Dreaming',\n",
       " 'Princess Diana',\n",
       " 'Bye',\n",
       " 'Self Love',\n",
       " 'It Matters To Her',\n",
       " 'Daylight',\n",
       " 'PRC',\n",
       " 'Por Las Noches',\n",
       " 'Mourning',\n",
       " 'What It Is (Block Boy)',\n",
       " 'See You Again',\n",
       " 'TQG',\n",
       " 'El Azul',\n",
       " 'Bury Me In Georgia',\n",
       " 'Waffle House',\n",
       " 'You, Me, & Whiskey',\n",
       " 'Your Heart Or Mine',\n",
       " 'Plebada',\n",
       " 'Cowgirls',\n",
       " 'ICU',\n",
       " \"Baby Don't Hurt Me\",\n",
       " 'Popular',\n",
       " 'Slut Me Out',\n",
       " 'Peaches & Eggplants',\n",
       " 'America Has A Problem',\n",
       " 'Fight The Feeling',\n",
       " \"Ain't That Some\",\n",
       " 'Shake Sumn',\n",
       " 'Chanel',\n",
       " 'People',\n",
       " 'Bread & Butter',\n",
       " 'Trustfall',\n",
       " 'Fragil',\n",
       " 'Hits Different',\n",
       " 'Jaded',\n",
       " 'Pound Town 2',\n",
       " 'Low Down',\n",
       " 'Ocean Spray',\n",
       " 'Truck Bed',\n",
       " 'Moonlight',\n",
       " 'Trance',\n",
       " 'All The Way Live',\n",
       " 'The Hillbillies',\n",
       " 'El Gordo Trae El Mando',\n",
       " 'Too Many Nights',\n",
       " 'Save Me',\n",
       " 'Yandel 150',\n",
       " 'Beso',\n",
       " 'I Wrote The Book',\n",
       " 'Hummingbird']"
      ]
     },
     "execution_count": 8,
     "metadata": {},
     "output_type": "execute_result"
    }
   ],
   "source": [
    "for title in song_titles:\n",
    "    \n",
    "    title_ = title.get_text(strip=True)\n",
    "    #print(title_)\n",
    "    songs.append(title_)\n",
    "\n",
    "songs"
   ]
  },
  {
   "cell_type": "code",
   "execution_count": 9,
   "id": "d94c4921",
   "metadata": {},
   "outputs": [
    {
     "data": {
      "text/plain": [
       "100"
      ]
     },
     "execution_count": 9,
     "metadata": {},
     "output_type": "execute_result"
    }
   ],
   "source": [
    "len(songs)"
   ]
  },
  {
   "cell_type": "code",
   "execution_count": 10,
   "id": "e2fda553",
   "metadata": {},
   "outputs": [],
   "source": [
    "# Artists\n",
    "\n",
    "#First artist  (different html code from rest of artists)\n",
    "\n",
    "first_artist = \"c-label a-no-trucate a-font-primary-s lrv-u-font-size-14@mobile-max u-line-height-normal@mobile-max u-letter-spacing-0021 lrv-u-display-block a-truncate-ellipsis-2line u-max-width-330 u-max-width-230@tablet-only u-font-size-20@tablet\"\n",
    "first_= soup.find_all(\"span\", attrs={\"class\": first_artist})"
   ]
  },
  {
   "cell_type": "code",
   "execution_count": 11,
   "id": "61307a5f",
   "metadata": {},
   "outputs": [],
   "source": [
    "for i in first_:\n",
    "    \n",
    "    first_artist = i.get_text(strip=True)\n",
    "    artists.append(first_artist)"
   ]
  },
  {
   "cell_type": "code",
   "execution_count": 15,
   "id": "9daf30a0",
   "metadata": {},
   "outputs": [],
   "source": [
    "#Rest of the artists\n",
    "\n",
    "artists_=\"c-label a-no-trucate a-font-primary-s lrv-u-font-size-14@mobile-max u-line-height-normal@mobile-max u-letter-spacing-0021 lrv-u-display-block a-truncate-ellipsis-2line u-max-width-330 u-max-width-230@tablet-only\"\n",
    "artists2 = soup.find_all(\"span\", attrs={\"class\": artists_})\n",
    "#artists2"
   ]
  },
  {
   "cell_type": "code",
   "execution_count": 17,
   "id": "f334656a",
   "metadata": {},
   "outputs": [],
   "source": [
    "for i in artists2:\n",
    "    \n",
    "    artist_list = i.get_text(strip=True)\n",
    "    artists.append(artist_list)"
   ]
  },
  {
   "cell_type": "code",
   "execution_count": 18,
   "id": "d7529f26",
   "metadata": {},
   "outputs": [
    {
     "data": {
      "text/plain": [
       "['Morgan Wallen',\n",
       " 'Miley Cyrus',\n",
       " 'Luke Combs',\n",
       " 'Rema & Selena Gomez',\n",
       " 'Lil Durk Featuring J. Cole',\n",
       " 'Toosii',\n",
       " 'SZA',\n",
       " 'Metro Boomin, The Weeknd & 21 Savage',\n",
       " 'Taylor Swift Featuring Ice Spice',\n",
       " 'Eslabon Armado X Peso Pluma',\n",
       " 'Miguel',\n",
       " 'Taylor Swift',\n",
       " 'The Weeknd & Ariana Grande',\n",
       " 'Zach Bryan',\n",
       " 'SZA',\n",
       " 'Yng Lvcas x Peso Pluma',\n",
       " 'Bad Bunny',\n",
       " 'Grupo Frontera X Bad Bunny',\n",
       " 'Jelly Roll',\n",
       " 'Drake',\n",
       " 'Morgan Wallen',\n",
       " 'Morgan Wallen',\n",
       " 'Post Malone',\n",
       " 'Fifty Fifty',\n",
       " 'Bailey Zimmerman',\n",
       " 'Ed Sheeran',\n",
       " 'PinkPantheress & Ice Spice',\n",
       " 'Jordan Davis',\n",
       " 'Latto Featuring Cardi B',\n",
       " 'Morgan Wallen',\n",
       " 'David Guetta & Bebe Rexha',\n",
       " 'Dua Lipa',\n",
       " 'Kali',\n",
       " 'Tyler Hubbard',\n",
       " 'Morgan Wallen',\n",
       " 'Old Dominion',\n",
       " 'Bizarrap & Peso Pluma',\n",
       " 'Megan Moroney',\n",
       " 'Taylor Swift',\n",
       " 'Fuerza Regida',\n",
       " 'Lil Durk Featuring Morgan Wallen',\n",
       " 'Bailey Zimmerman',\n",
       " 'Noah Kahan',\n",
       " 'Chris Brown',\n",
       " 'Coi Leray',\n",
       " 'Metro Boomin, Swae Lee & NAV Featuring A Boogie Wit da Hoodie',\n",
       " 'Metro Boomin, Swae Lee, Lil Wayne & Offset',\n",
       " 'BTS',\n",
       " 'Luke Combs',\n",
       " 'Kane Brown With Katelyn Brown',\n",
       " 'Metro Boomin, A$AP Rocky & Roisee',\n",
       " 'Ice Spice & Nicki Minaj',\n",
       " 'Peso Pluma',\n",
       " 'Metro Boomin & Coi Leray',\n",
       " 'Scotty McCreery',\n",
       " 'David Kushner',\n",
       " 'Peso Pluma X Natanael Cano',\n",
       " 'Peso Pluma',\n",
       " 'Post Malone',\n",
       " 'Doechii Featuring Kodak Black',\n",
       " 'Tyler, The Creator Featuring Kali Uchis',\n",
       " 'Karol G x Shakira',\n",
       " 'Junior H x Peso Pluma',\n",
       " 'Kane Brown',\n",
       " 'Jonas Brothers',\n",
       " 'Justin Moore & Priscilla Block',\n",
       " 'Jon Pardi',\n",
       " 'El Alfa x Peso Pluma',\n",
       " 'Morgan Wallen Featuring ERNEST',\n",
       " 'Coco Jones',\n",
       " 'David Guetta, Anne-Marie & Coi Leray',\n",
       " 'The Weeknd, Playboi Carti & Madonna',\n",
       " 'NLE Choppa',\n",
       " 'Young Nudy Featuring 21 Savage',\n",
       " 'Beyonce Featuring Kendrick Lamar',\n",
       " 'Rod Wave',\n",
       " 'Morgan Wallen',\n",
       " 'DaBaby',\n",
       " 'Becky G & Peso Pluma',\n",
       " 'Libianca',\n",
       " 'Gunna',\n",
       " 'P!nk',\n",
       " 'Yahritza y Su Esencia x Grupo Frontera',\n",
       " 'Taylor Swift',\n",
       " 'Miley Cyrus',\n",
       " 'Sexyy Red & Tay Keith & Nicki Minaj',\n",
       " 'Lil Baby',\n",
       " 'Moneybagg Yo',\n",
       " 'HARDY',\n",
       " 'Kali Uchis',\n",
       " 'Metro Boomin, Travis Scott & Young Thug',\n",
       " 'Metro Boomin, Future & Lil Uzi Vert',\n",
       " 'Baby Keem & Kendrick Lamar',\n",
       " 'Chino Pacas',\n",
       " 'Metro Boomin Featuring Don Toliver & Future',\n",
       " 'Jelly Roll With Lainey Wilson',\n",
       " 'Yandel & Feid',\n",
       " 'Rosalia & Rauw Alejandro',\n",
       " 'Morgan Wallen',\n",
       " 'Metro Boomin & James Blake']"
      ]
     },
     "execution_count": 18,
     "metadata": {},
     "output_type": "execute_result"
    }
   ],
   "source": [
    "artists"
   ]
  },
  {
   "cell_type": "code",
   "execution_count": 19,
   "id": "e5aafb7d",
   "metadata": {
    "scrolled": true
   },
   "outputs": [
    {
     "data": {
      "text/plain": [
       "100"
      ]
     },
     "execution_count": 19,
     "metadata": {},
     "output_type": "execute_result"
    }
   ],
   "source": [
    "len(artists)"
   ]
  },
  {
   "cell_type": "code",
   "execution_count": 21,
   "id": "cb0a2605",
   "metadata": {},
   "outputs": [
    {
     "data": {
      "text/html": [
       "<div>\n",
       "<style scoped>\n",
       "    .dataframe tbody tr th:only-of-type {\n",
       "        vertical-align: middle;\n",
       "    }\n",
       "\n",
       "    .dataframe tbody tr th {\n",
       "        vertical-align: top;\n",
       "    }\n",
       "\n",
       "    .dataframe thead th {\n",
       "        text-align: right;\n",
       "    }\n",
       "</style>\n",
       "<table border=\"1\" class=\"dataframe\">\n",
       "  <thead>\n",
       "    <tr style=\"text-align: right;\">\n",
       "      <th></th>\n",
       "      <th>artists</th>\n",
       "      <th>songs</th>\n",
       "    </tr>\n",
       "  </thead>\n",
       "  <tbody>\n",
       "    <tr>\n",
       "      <th>0</th>\n",
       "      <td>Morgan Wallen</td>\n",
       "      <td>Last Night</td>\n",
       "    </tr>\n",
       "    <tr>\n",
       "      <th>1</th>\n",
       "      <td>Miley Cyrus</td>\n",
       "      <td>Flowers</td>\n",
       "    </tr>\n",
       "    <tr>\n",
       "      <th>2</th>\n",
       "      <td>Luke Combs</td>\n",
       "      <td>Fast Car</td>\n",
       "    </tr>\n",
       "    <tr>\n",
       "      <th>3</th>\n",
       "      <td>Rema &amp; Selena Gomez</td>\n",
       "      <td>Calm Down</td>\n",
       "    </tr>\n",
       "    <tr>\n",
       "      <th>4</th>\n",
       "      <td>Lil Durk Featuring J. Cole</td>\n",
       "      <td>All My Life</td>\n",
       "    </tr>\n",
       "  </tbody>\n",
       "</table>\n",
       "</div>"
      ],
      "text/plain": [
       "                      artists        songs\n",
       "0               Morgan Wallen   Last Night\n",
       "1                 Miley Cyrus      Flowers\n",
       "2                  Luke Combs     Fast Car\n",
       "3         Rema & Selena Gomez    Calm Down\n",
       "4  Lil Durk Featuring J. Cole  All My Life"
      ]
     },
     "execution_count": 21,
     "metadata": {},
     "output_type": "execute_result"
    }
   ],
   "source": [
    "## Constructing the dataframe\n",
    "\n",
    "# each list becomes a column\n",
    "df = pd.DataFrame({\"artists\":artists,\n",
    "                       \"songs\":songs\n",
    "                      })\n",
    "\n",
    "df.head()"
   ]
  },
  {
   "cell_type": "code",
   "execution_count": 22,
   "id": "33efc62e",
   "metadata": {},
   "outputs": [
    {
     "data": {
      "text/plain": [
       "artists     86\n",
       "songs      100\n",
       "dtype: int64"
      ]
     },
     "execution_count": 22,
     "metadata": {},
     "output_type": "execute_result"
    }
   ],
   "source": [
    "df.nunique()"
   ]
  },
  {
   "cell_type": "code",
   "execution_count": 23,
   "id": "bfdf56e1",
   "metadata": {
    "scrolled": true
   },
   "outputs": [
    {
     "data": {
      "text/plain": [
       "Morgan Wallen                 7\n",
       "Taylor Swift                  3\n",
       "Luke Combs                    2\n",
       "Peso Pluma                    2\n",
       "Miley Cyrus                   2\n",
       "                             ..\n",
       "Old Dominion                  1\n",
       "Tyler Hubbard                 1\n",
       "Kali                          1\n",
       "Dua Lipa                      1\n",
       "Metro Boomin & James Blake    1\n",
       "Name: artists, Length: 86, dtype: int64"
      ]
     },
     "execution_count": 23,
     "metadata": {},
     "output_type": "execute_result"
    }
   ],
   "source": [
    "df.artists.value_counts()"
   ]
  },
  {
   "cell_type": "code",
   "execution_count": null,
   "id": "12e23758",
   "metadata": {},
   "outputs": [],
   "source": [
    "# some artists have multiple songs on the top 100."
   ]
  }
 ],
 "metadata": {
  "kernelspec": {
   "display_name": "Python 3 (ipykernel)",
   "language": "python",
   "name": "python3"
  },
  "language_info": {
   "codemirror_mode": {
    "name": "ipython",
    "version": 3
   },
   "file_extension": ".py",
   "mimetype": "text/x-python",
   "name": "python",
   "nbconvert_exporter": "python",
   "pygments_lexer": "ipython3",
   "version": "3.9.13"
  }
 },
 "nbformat": 4,
 "nbformat_minor": 5
}
