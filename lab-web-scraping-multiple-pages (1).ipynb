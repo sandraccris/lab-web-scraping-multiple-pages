{
 "cells": [
  {
   "cell_type": "markdown",
   "id": "97853555",
   "metadata": {},
   "source": [
    "# **Scenario**\n",
    "\n",
    "You have been hired as a Data Analyst for \"Gnod\".\n",
    "\n",
    "\"Gnod\" is a site that provides recommendations for music, art, literature and products based on collaborative filtering algorithms. Their flagship product is the music recommender, which you can try at www.gnoosic.com. The site asks users to input 3 bands they like, and computes similarity scores with the rest of the users. Then, they recommend to the user bands that users with similar tastes have picked.\n",
    "\n",
    "\"Gnod\" is a small company, and its only revenue stream so far are adds in the site. In the future, they would like to explore partnership options with music apps (such as Deezer, Soundcloud or even Apple Music and Spotify). However, for that to be possible, they need to expand and improve their recommendations.\n",
    "\n",
    "That's precisely where you come. They have hired you as a Data Analyst, and they expect you to bring a mix of technical expertise and business mindset to the table.\n"
   ]
  },
  {
   "cell_type": "markdown",
   "id": "6d9c801e",
   "metadata": {},
   "source": [
    "**The goal of the company (Gnod)**: Explore partnership options with music apps(Deezer, Soundcloud, Apple Music, Spotify etc.)\n",
    "\n",
    "**Their current product (Gnoosic)**: Music Recommender (asks users to input 3 bands they like, and computes similarity scores with the rest of the users. Then, they recommend to the user bands that users with similar tastes have picked).\n",
    "\n",
    "**How your project fits into this context**: Expand and improve music recommendations. Enhance song recommendations (not only bands)."
   ]
  },
  {
   "cell_type": "markdown",
   "id": "6b7b36ab",
   "metadata": {},
   "source": [
    "### **Instructions - Scraping popular songs**\n",
    "\n",
    "Your product will take a song as an input from the user and will output another song (the recommendation). In most cases, the recommended song will have to be similar to the inputted song, but the CTO thinks that if the song is on the top charts at the moment, the user will enjoy more a recommendation of a song that's also popular at the moment.\n",
    "\n",
    "You have find data on the internet about currently popular songs. Billboard maintains a weekly Top 100 of \"hot\" songs here: https://www.billboard.com/charts/hot-100."
   ]
  },
  {
   "cell_type": "markdown",
   "id": "99931e1f",
   "metadata": {},
   "source": [
    "## Billboard Hot 100"
   ]
  },
  {
   "cell_type": "markdown",
   "id": "5e09d112",
   "metadata": {},
   "source": [
    "### 1. Scrape the current top 100 songs and their respective artists, and put the information into a pandas dataframe."
   ]
  },
  {
   "cell_type": "code",
   "execution_count": 1,
   "id": "46543f13",
   "metadata": {},
   "outputs": [],
   "source": [
    "import requests\n",
    "import pandas as pd\n",
    "from bs4 import BeautifulSoup"
   ]
  },
  {
   "cell_type": "code",
   "execution_count": 2,
   "id": "ad0e935c",
   "metadata": {},
   "outputs": [],
   "source": [
    "## Getting the html code of the web page\n",
    "url = \"https://www.billboard.com/charts/hot-100/\""
   ]
  },
  {
   "cell_type": "code",
   "execution_count": 3,
   "id": "933da6c4",
   "metadata": {},
   "outputs": [
    {
     "data": {
      "text/plain": [
       "<Response [200]>"
      ]
     },
     "execution_count": 3,
     "metadata": {},
     "output_type": "execute_result"
    }
   ],
   "source": [
    "## Getting the html code of the web page\n",
    "response = requests.get(url)\n",
    "response # 200 status code means OK!"
   ]
  },
  {
   "cell_type": "code",
   "execution_count": 4,
   "id": "32b8c1ca",
   "metadata": {
    "scrolled": false
   },
   "outputs": [],
   "source": [
    "## Parsing the html code\n",
    "soup = BeautifulSoup(response.content, \"html.parser\")\n",
    "#soup"
   ]
  },
  {
   "cell_type": "code",
   "execution_count": 5,
   "id": "94f1261b",
   "metadata": {},
   "outputs": [],
   "source": [
    "#creating 2 empty lists\n",
    "songs=[]\n",
    "artists=[]"
   ]
  },
  {
   "cell_type": "code",
   "execution_count": 6,
   "id": "2258f61a",
   "metadata": {},
   "outputs": [],
   "source": [
    "# First song (rest of the songs have a different htlm code!)\n",
    "first_song=soup.find('h3').get_text(strip=True)\n",
    "songs.append(first_song)"
   ]
  },
  {
   "cell_type": "code",
   "execution_count": 7,
   "id": "5dc98fba",
   "metadata": {},
   "outputs": [],
   "source": [
    "# rest of the songs\n",
    "song_titles=soup.find_all(\"h3\", attrs={\"class\": \"c-title a-no-trucate a-font-primary-bold-s u-letter-spacing-0021 lrv-u-font-size-18@tablet lrv-u-font-size-16 u-line-height-125 u-line-height-normal@mobile-max a-truncate-ellipsis u-max-width-330 u-max-width-230@tablet-only\"})\n",
    "#song_titles"
   ]
  },
  {
   "cell_type": "code",
   "execution_count": 8,
   "id": "f3804feb",
   "metadata": {
    "scrolled": true
   },
   "outputs": [
    {
     "data": {
      "text/plain": [
       "['Last Night',\n",
       " 'Flowers',\n",
       " 'Fast Car',\n",
       " 'Calm Down',\n",
       " 'All My Life',\n",
       " 'Favorite Song',\n",
       " 'Kill Bill',\n",
       " \"Creepin'\",\n",
       " 'Karma',\n",
       " 'Ella Baila Sola',\n",
       " 'Sure Thing',\n",
       " 'Anti-Hero',\n",
       " 'Die For You',\n",
       " 'Something In The Orange',\n",
       " 'Snooze',\n",
       " 'La Bebe',\n",
       " 'Where She Goes',\n",
       " 'Un x100to',\n",
       " 'Need A Favor',\n",
       " 'Search & Rescue',\n",
       " 'You Proof',\n",
       " \"Thinkin' Bout Me\",\n",
       " 'Chemical',\n",
       " 'Cupid',\n",
       " 'Rock And A Hard Place',\n",
       " 'Eyes Closed',\n",
       " \"Boy's A Liar, Pt. 2\",\n",
       " 'Next Thing You Know',\n",
       " 'Put It On Da Floor Again',\n",
       " 'Thought You Should Know',\n",
       " \"I'm Good (Blue)\",\n",
       " 'Dance The Night',\n",
       " 'Area Codes',\n",
       " \"Dancin' In The Country\",\n",
       " 'One Thing At A Time',\n",
       " 'Memory Lane',\n",
       " 'Bzrp Music Sessions, Vol. 55',\n",
       " 'Tennessee Orange',\n",
       " 'Cruel Summer',\n",
       " 'TQM',\n",
       " 'Stand By Me',\n",
       " 'Religiously',\n",
       " 'Dial Drunk',\n",
       " 'Under The Influence',\n",
       " 'Players',\n",
       " 'Calling',\n",
       " 'Annihilate',\n",
       " 'Take Two',\n",
       " 'Love You Anyway',\n",
       " 'Thank God',\n",
       " 'Am I Dreaming',\n",
       " 'Princess Diana',\n",
       " 'Bye',\n",
       " 'Self Love',\n",
       " 'It Matters To Her',\n",
       " 'Daylight',\n",
       " 'PRC',\n",
       " 'Por Las Noches',\n",
       " 'Mourning',\n",
       " 'What It Is (Block Boy)',\n",
       " 'See You Again',\n",
       " 'TQG',\n",
       " 'El Azul',\n",
       " 'Bury Me In Georgia',\n",
       " 'Waffle House',\n",
       " 'You, Me, & Whiskey',\n",
       " 'Your Heart Or Mine',\n",
       " 'Plebada',\n",
       " 'Cowgirls',\n",
       " 'ICU',\n",
       " \"Baby Don't Hurt Me\",\n",
       " 'Popular',\n",
       " 'Slut Me Out',\n",
       " 'Peaches & Eggplants',\n",
       " 'America Has A Problem',\n",
       " 'Fight The Feeling',\n",
       " \"Ain't That Some\",\n",
       " 'Shake Sumn',\n",
       " 'Chanel',\n",
       " 'People',\n",
       " 'Bread & Butter',\n",
       " 'Trustfall',\n",
       " 'Fragil',\n",
       " 'Hits Different',\n",
       " 'Jaded',\n",
       " 'Pound Town 2',\n",
       " 'Low Down',\n",
       " 'Ocean Spray',\n",
       " 'Truck Bed',\n",
       " 'Moonlight',\n",
       " 'Trance',\n",
       " 'All The Way Live',\n",
       " 'The Hillbillies',\n",
       " 'El Gordo Trae El Mando',\n",
       " 'Too Many Nights',\n",
       " 'Save Me',\n",
       " 'Yandel 150',\n",
       " 'Beso',\n",
       " 'I Wrote The Book',\n",
       " 'Hummingbird']"
      ]
     },
     "execution_count": 8,
     "metadata": {},
     "output_type": "execute_result"
    }
   ],
   "source": [
    "for title in song_titles:\n",
    "    \n",
    "    title_ = title.get_text(strip=True)\n",
    "    #print(title_)\n",
    "    songs.append(title_)\n",
    "\n",
    "songs"
   ]
  },
  {
   "cell_type": "code",
   "execution_count": 9,
   "id": "d94c4921",
   "metadata": {},
   "outputs": [
    {
     "data": {
      "text/plain": [
       "100"
      ]
     },
     "execution_count": 9,
     "metadata": {},
     "output_type": "execute_result"
    }
   ],
   "source": [
    "len(songs)"
   ]
  },
  {
   "cell_type": "code",
   "execution_count": 10,
   "id": "e2fda553",
   "metadata": {},
   "outputs": [],
   "source": [
    "# Artists\n",
    "\n",
    "#First artist  (different html code from rest of artists)\n",
    "\n",
    "first_artist = \"c-label a-no-trucate a-font-primary-s lrv-u-font-size-14@mobile-max u-line-height-normal@mobile-max u-letter-spacing-0021 lrv-u-display-block a-truncate-ellipsis-2line u-max-width-330 u-max-width-230@tablet-only u-font-size-20@tablet\"\n",
    "first_= soup.find_all(\"span\", attrs={\"class\": first_artist})"
   ]
  },
  {
   "cell_type": "code",
   "execution_count": 11,
   "id": "61307a5f",
   "metadata": {},
   "outputs": [],
   "source": [
    "for i in first_:\n",
    "    \n",
    "    first_artist = i.get_text(strip=True)\n",
    "    artists.append(first_artist)"
   ]
  },
  {
   "cell_type": "code",
   "execution_count": 12,
   "id": "9daf30a0",
   "metadata": {},
   "outputs": [],
   "source": [
    "#Rest of the artists\n",
    "\n",
    "artists_=\"c-label a-no-trucate a-font-primary-s lrv-u-font-size-14@mobile-max u-line-height-normal@mobile-max u-letter-spacing-0021 lrv-u-display-block a-truncate-ellipsis-2line u-max-width-330 u-max-width-230@tablet-only\"\n",
    "artists2 = soup.find_all(\"span\", attrs={\"class\": artists_})\n",
    "#artists2"
   ]
  },
  {
   "cell_type": "code",
   "execution_count": 13,
   "id": "f334656a",
   "metadata": {},
   "outputs": [],
   "source": [
    "for i in artists2:\n",
    "    \n",
    "    artist_list = i.get_text(strip=True)\n",
    "    artists.append(artist_list)"
   ]
  },
  {
   "cell_type": "code",
   "execution_count": 15,
   "id": "d7529f26",
   "metadata": {},
   "outputs": [
    {
     "data": {
      "text/plain": [
       "['Morgan Wallen',\n",
       " 'Miley Cyrus',\n",
       " 'Luke Combs',\n",
       " 'Rema & Selena Gomez',\n",
       " 'Lil Durk Featuring J. Cole',\n",
       " 'Toosii',\n",
       " 'SZA',\n",
       " 'Metro Boomin, The Weeknd & 21 Savage',\n",
       " 'Taylor Swift Featuring Ice Spice',\n",
       " 'Eslabon Armado X Peso Pluma',\n",
       " 'Miguel',\n",
       " 'Taylor Swift',\n",
       " 'The Weeknd & Ariana Grande',\n",
       " 'Zach Bryan',\n",
       " 'SZA',\n",
       " 'Yng Lvcas x Peso Pluma',\n",
       " 'Bad Bunny',\n",
       " 'Grupo Frontera X Bad Bunny',\n",
       " 'Jelly Roll',\n",
       " 'Drake',\n",
       " 'Morgan Wallen',\n",
       " 'Morgan Wallen',\n",
       " 'Post Malone',\n",
       " 'Fifty Fifty',\n",
       " 'Bailey Zimmerman',\n",
       " 'Ed Sheeran',\n",
       " 'PinkPantheress & Ice Spice',\n",
       " 'Jordan Davis',\n",
       " 'Latto Featuring Cardi B',\n",
       " 'Morgan Wallen',\n",
       " 'David Guetta & Bebe Rexha',\n",
       " 'Dua Lipa',\n",
       " 'Kali',\n",
       " 'Tyler Hubbard',\n",
       " 'Morgan Wallen',\n",
       " 'Old Dominion',\n",
       " 'Bizarrap & Peso Pluma',\n",
       " 'Megan Moroney',\n",
       " 'Taylor Swift',\n",
       " 'Fuerza Regida',\n",
       " 'Lil Durk Featuring Morgan Wallen',\n",
       " 'Bailey Zimmerman',\n",
       " 'Noah Kahan',\n",
       " 'Chris Brown',\n",
       " 'Coi Leray',\n",
       " 'Metro Boomin, Swae Lee & NAV Featuring A Boogie Wit da Hoodie',\n",
       " 'Metro Boomin, Swae Lee, Lil Wayne & Offset',\n",
       " 'BTS',\n",
       " 'Luke Combs',\n",
       " 'Kane Brown With Katelyn Brown',\n",
       " 'Metro Boomin, A$AP Rocky & Roisee',\n",
       " 'Ice Spice & Nicki Minaj',\n",
       " 'Peso Pluma',\n",
       " 'Metro Boomin & Coi Leray',\n",
       " 'Scotty McCreery',\n",
       " 'David Kushner',\n",
       " 'Peso Pluma X Natanael Cano',\n",
       " 'Peso Pluma',\n",
       " 'Post Malone',\n",
       " 'Doechii Featuring Kodak Black',\n",
       " 'Tyler, The Creator Featuring Kali Uchis',\n",
       " 'Karol G x Shakira',\n",
       " 'Junior H x Peso Pluma',\n",
       " 'Kane Brown',\n",
       " 'Jonas Brothers',\n",
       " 'Justin Moore & Priscilla Block',\n",
       " 'Jon Pardi',\n",
       " 'El Alfa x Peso Pluma',\n",
       " 'Morgan Wallen Featuring ERNEST',\n",
       " 'Coco Jones',\n",
       " 'David Guetta, Anne-Marie & Coi Leray',\n",
       " 'The Weeknd, Playboi Carti & Madonna',\n",
       " 'NLE Choppa',\n",
       " 'Young Nudy Featuring 21 Savage',\n",
       " 'Beyonce Featuring Kendrick Lamar',\n",
       " 'Rod Wave',\n",
       " 'Morgan Wallen',\n",
       " 'DaBaby',\n",
       " 'Becky G & Peso Pluma',\n",
       " 'Libianca',\n",
       " 'Gunna',\n",
       " 'P!nk',\n",
       " 'Yahritza y Su Esencia x Grupo Frontera',\n",
       " 'Taylor Swift',\n",
       " 'Miley Cyrus',\n",
       " 'Sexyy Red & Tay Keith & Nicki Minaj',\n",
       " 'Lil Baby',\n",
       " 'Moneybagg Yo',\n",
       " 'HARDY',\n",
       " 'Kali Uchis',\n",
       " 'Metro Boomin, Travis Scott & Young Thug',\n",
       " 'Metro Boomin, Future & Lil Uzi Vert',\n",
       " 'Baby Keem & Kendrick Lamar',\n",
       " 'Chino Pacas',\n",
       " 'Metro Boomin Featuring Don Toliver & Future',\n",
       " 'Jelly Roll With Lainey Wilson',\n",
       " 'Yandel & Feid',\n",
       " 'Rosalia & Rauw Alejandro',\n",
       " 'Morgan Wallen',\n",
       " 'Metro Boomin & James Blake']"
      ]
     },
     "execution_count": 15,
     "metadata": {},
     "output_type": "execute_result"
    }
   ],
   "source": [
    "artists"
   ]
  },
  {
   "cell_type": "code",
   "execution_count": 14,
   "id": "e5aafb7d",
   "metadata": {
    "scrolled": true
   },
   "outputs": [
    {
     "data": {
      "text/plain": [
       "100"
      ]
     },
     "execution_count": 14,
     "metadata": {},
     "output_type": "execute_result"
    }
   ],
   "source": [
    "len(artists)"
   ]
  },
  {
   "cell_type": "code",
   "execution_count": 16,
   "id": "cb0a2605",
   "metadata": {},
   "outputs": [
    {
     "data": {
      "text/html": [
       "<div>\n",
       "<style scoped>\n",
       "    .dataframe tbody tr th:only-of-type {\n",
       "        vertical-align: middle;\n",
       "    }\n",
       "\n",
       "    .dataframe tbody tr th {\n",
       "        vertical-align: top;\n",
       "    }\n",
       "\n",
       "    .dataframe thead th {\n",
       "        text-align: right;\n",
       "    }\n",
       "</style>\n",
       "<table border=\"1\" class=\"dataframe\">\n",
       "  <thead>\n",
       "    <tr style=\"text-align: right;\">\n",
       "      <th></th>\n",
       "      <th>artists</th>\n",
       "      <th>songs</th>\n",
       "    </tr>\n",
       "  </thead>\n",
       "  <tbody>\n",
       "    <tr>\n",
       "      <th>0</th>\n",
       "      <td>Morgan Wallen</td>\n",
       "      <td>Last Night</td>\n",
       "    </tr>\n",
       "    <tr>\n",
       "      <th>1</th>\n",
       "      <td>Miley Cyrus</td>\n",
       "      <td>Flowers</td>\n",
       "    </tr>\n",
       "    <tr>\n",
       "      <th>2</th>\n",
       "      <td>Luke Combs</td>\n",
       "      <td>Fast Car</td>\n",
       "    </tr>\n",
       "    <tr>\n",
       "      <th>3</th>\n",
       "      <td>Rema &amp; Selena Gomez</td>\n",
       "      <td>Calm Down</td>\n",
       "    </tr>\n",
       "    <tr>\n",
       "      <th>4</th>\n",
       "      <td>Lil Durk Featuring J. Cole</td>\n",
       "      <td>All My Life</td>\n",
       "    </tr>\n",
       "  </tbody>\n",
       "</table>\n",
       "</div>"
      ],
      "text/plain": [
       "                      artists        songs\n",
       "0               Morgan Wallen   Last Night\n",
       "1                 Miley Cyrus      Flowers\n",
       "2                  Luke Combs     Fast Car\n",
       "3         Rema & Selena Gomez    Calm Down\n",
       "4  Lil Durk Featuring J. Cole  All My Life"
      ]
     },
     "execution_count": 16,
     "metadata": {},
     "output_type": "execute_result"
    }
   ],
   "source": [
    "## Constructing the dataframe\n",
    "\n",
    "# each list becomes a column\n",
    "df = pd.DataFrame({\"artists\":artists,\n",
    "                       \"songs\":songs\n",
    "                      })\n",
    "\n",
    "df.head()"
   ]
  },
  {
   "cell_type": "code",
   "execution_count": 17,
   "id": "33efc62e",
   "metadata": {},
   "outputs": [
    {
     "data": {
      "text/plain": [
       "artists     86\n",
       "songs      100\n",
       "dtype: int64"
      ]
     },
     "execution_count": 17,
     "metadata": {},
     "output_type": "execute_result"
    }
   ],
   "source": [
    "df.nunique()"
   ]
  },
  {
   "cell_type": "code",
   "execution_count": 18,
   "id": "bfdf56e1",
   "metadata": {
    "scrolled": false
   },
   "outputs": [
    {
     "data": {
      "text/plain": [
       "Morgan Wallen                 7\n",
       "Taylor Swift                  3\n",
       "Luke Combs                    2\n",
       "Peso Pluma                    2\n",
       "Miley Cyrus                   2\n",
       "                             ..\n",
       "Old Dominion                  1\n",
       "Tyler Hubbard                 1\n",
       "Kali                          1\n",
       "Dua Lipa                      1\n",
       "Metro Boomin & James Blake    1\n",
       "Name: artists, Length: 86, dtype: int64"
      ]
     },
     "execution_count": 18,
     "metadata": {},
     "output_type": "execute_result"
    }
   ],
   "source": [
    "df.artists.value_counts()"
   ]
  },
  {
   "cell_type": "code",
   "execution_count": null,
   "id": "12e23758",
   "metadata": {},
   "outputs": [],
   "source": [
    "# some artists have multiple songs on the top 100."
   ]
  },
  {
   "cell_type": "markdown",
   "id": "e7d2df7b",
   "metadata": {},
   "source": [
    "# Lab | Web Scraping Multiple Pages"
   ]
  },
  {
   "cell_type": "markdown",
   "id": "46912433",
   "metadata": {},
   "source": [
    "Find other lists of hot songs on the internet and scrape them too: having a bigger pool of songs will be awesome!\n",
    "Apply the same logic to other \"groups\" of songs: the best songs from a decade or from a country / culture / language / genre."
   ]
  },
  {
   "cell_type": "markdown",
   "id": "ef0f299b",
   "metadata": {},
   "source": [
    "## RollingStone The 100 Best Songs of 2022"
   ]
  },
  {
   "cell_type": "code",
   "execution_count": 19,
   "id": "85d6d545",
   "metadata": {},
   "outputs": [],
   "source": [
    "## Getting the html code for the first 50 songs\n",
    "url2 = \"https://www.rollingstone.com/music/music-lists/best-songs-2022-list-1234632381/\""
   ]
  },
  {
   "cell_type": "code",
   "execution_count": 20,
   "id": "08c69048",
   "metadata": {
    "scrolled": true
   },
   "outputs": [
    {
     "data": {
      "text/plain": [
       "<Response [200]>"
      ]
     },
     "execution_count": 20,
     "metadata": {},
     "output_type": "execute_result"
    }
   ],
   "source": [
    "response2 = requests.get(url2)\n",
    "response2"
   ]
  },
  {
   "cell_type": "code",
   "execution_count": 21,
   "id": "782a2a34",
   "metadata": {},
   "outputs": [],
   "source": [
    "## Parsing the html code\n",
    "soup2 = BeautifulSoup(response2.content, \"html.parser\")\n",
    "#soup2"
   ]
  },
  {
   "cell_type": "code",
   "execution_count": 22,
   "id": "9928747d",
   "metadata": {},
   "outputs": [],
   "source": [
    "#creating 2 empty lists\n",
    "songs2=[]\n",
    "artists2=[]"
   ]
  },
  {
   "cell_type": "code",
   "execution_count": 23,
   "id": "afa83c7a",
   "metadata": {},
   "outputs": [],
   "source": [
    "for songs in soup2.find_all(\"article\", attrs={\"class\": \"pmc-fallback-list-item\"}):\n",
    "    songs2.append(songs.find('h2').get_text())"
   ]
  },
  {
   "cell_type": "code",
   "execution_count": 24,
   "id": "ae9ba2f4",
   "metadata": {},
   "outputs": [
    {
     "data": {
      "text/plain": [
       "['Lainey Wilson, ‘Heart Like a Truck’',\n",
       " 'Chronixx, ‘Never Give Up’',\n",
       " 'Plains, ‘Problem With It’',\n",
       " 'Hurray for the Riff Raff, ‘Saga’',\n",
       " 'Camilo ft. Grupo Firme, ‘Alaska’',\n",
       " 'Ingrid Andress, ‘Yearbook’',\n",
       " 'Jack Harlow, ‘First Class’',\n",
       " 'Psy feat. Suga, ‘That That’',\n",
       " 'Dead Cross, ‘Reign of Error’',\n",
       " 'Ethel Cain, ‘American Teenager’',\n",
       " 'Gladie, ‘Nothing’',\n",
       " 'Guided by Voices, ‘Alex Bell’',\n",
       " '(G)I-dle, ‘Nxde’',\n",
       " 'The Weeknd, ‘Take My Breath’',\n",
       " 'Nayeon, ‘Pop!’',\n",
       " 'Bill Callahan, ‘Coyotes’',\n",
       " 'Protoje feat. Lila Iké, ‘Late at Night’',\n",
       " 'Blood Orange, ‘Jesus Freak Lighter’',\n",
       " 'Camila Cabello feat. Maria Becerra, ‘Hasta Los Dientes’',\n",
       " 'Charli XCX and Tiësto, ‘Hot in It’',\n",
       " 'Daddy Yankee and Bad Bunny, ‘X Ultima Vez’',\n",
       " 'The 1975, ‘Part of the Band’',\n",
       " 'Rauw Alejandro and Baby Rasta, ‘Punto 40’',\n",
       " 'Florence + the Machine, ‘Choreomania’',\n",
       " 'Saba feat. Day Wave, ‘2012’',\n",
       " 'Le Sserafim, ‘Antifragile’',\n",
       " 'Alvvays, ‘Pomeranian Spinster’',\n",
       " 'Big Bang, ‘Still Life’',\n",
       " 'Yeah Yeah Yeahs, ‘Blacktop’',\n",
       " 'NCT 127, ‘2 Baddies’',\n",
       " 'Guitarricadelafuente, ‘Mil Y Una Noches’',\n",
       " 'Meghan Trainor, ‘Made You Look’',\n",
       " 'Jin, ‘The Astronaut’',\n",
       " 'Maren Morris, “Circles Around This Town”',\n",
       " 'Residente, ‘This Is Not America’',\n",
       " 'Aespa, ‘Girls’',\n",
       " 'Fontaines D.C., ‘Jackie Down The Line’',\n",
       " 'Joyce Wrice and Kaytranada, ‘Iced Tea’',\n",
       " 'U.S. Girls, ‘So Typically Now’',\n",
       " 'Marina, ‘Pink Convertible’',\n",
       " 'Sabrina Carpenter, ‘Because I Liked a Boy’',\n",
       " 'Taylor Swift, ‘Would’ve Could’ve Should’ve’',\n",
       " 'Gorillaz ft. Thundercat, ‘Cracker Island’',\n",
       " 'Flo Milli, ‘Conceited’',\n",
       " 'Stray Kids, ‘Maniac’',\n",
       " 'Pillbox Patti, ‘Eat Pray Drugs’',\n",
       " 'King Princess, ‘Let Us Die’',\n",
       " 'IVE, ‘After Like’',\n",
       " 'Syd feat. Smino, ‘Right Track’',\n",
       " 'Soul Glo, ‘Coming Correct Is Cheaper’']"
      ]
     },
     "execution_count": 24,
     "metadata": {},
     "output_type": "execute_result"
    }
   ],
   "source": [
    "songs2"
   ]
  },
  {
   "cell_type": "code",
   "execution_count": 25,
   "id": "b44f618d",
   "metadata": {},
   "outputs": [
    {
     "data": {
      "text/plain": [
       "50"
      ]
     },
     "execution_count": 25,
     "metadata": {},
     "output_type": "execute_result"
    }
   ],
   "source": [
    "len(songs2)"
   ]
  },
  {
   "cell_type": "code",
   "execution_count": 26,
   "id": "8f2d7509",
   "metadata": {},
   "outputs": [],
   "source": [
    "## Getting the html code for the second 50 songs\n",
    "\n",
    "url3=\"https://www.rollingstone.com/music/music-lists/best-songs-2022-list-1234632381/bad-bunny-ft-bomba-estereo-ojitos-lindos-1234632596/\""
   ]
  },
  {
   "cell_type": "code",
   "execution_count": 27,
   "id": "3d911d43",
   "metadata": {},
   "outputs": [
    {
     "data": {
      "text/plain": [
       "<Response [200]>"
      ]
     },
     "execution_count": 27,
     "metadata": {},
     "output_type": "execute_result"
    }
   ],
   "source": [
    "response3= requests.get(url3)\n",
    "response3"
   ]
  },
  {
   "cell_type": "code",
   "execution_count": 29,
   "id": "4f893257",
   "metadata": {},
   "outputs": [],
   "source": [
    "## Parsing the html code\n",
    "soup3 = BeautifulSoup(response3.content, \"html.parser\")\n",
    "#soup3"
   ]
  },
  {
   "cell_type": "code",
   "execution_count": 30,
   "id": "733448ad",
   "metadata": {},
   "outputs": [],
   "source": [
    "for songs in soup3.find_all(\"article\", attrs={\"class\": \"pmc-fallback-list-item\"}):\n",
    "    songs2.append(songs.find('h2').get_text())"
   ]
  },
  {
   "cell_type": "code",
   "execution_count": 31,
   "id": "babd7ac4",
   "metadata": {},
   "outputs": [
    {
     "data": {
      "text/plain": [
       "['Lainey Wilson, ‘Heart Like a Truck’',\n",
       " 'Chronixx, ‘Never Give Up’',\n",
       " 'Plains, ‘Problem With It’',\n",
       " 'Hurray for the Riff Raff, ‘Saga’',\n",
       " 'Camilo ft. Grupo Firme, ‘Alaska’',\n",
       " 'Ingrid Andress, ‘Yearbook’',\n",
       " 'Jack Harlow, ‘First Class’',\n",
       " 'Psy feat. Suga, ‘That That’',\n",
       " 'Dead Cross, ‘Reign of Error’',\n",
       " 'Ethel Cain, ‘American Teenager’',\n",
       " 'Gladie, ‘Nothing’',\n",
       " 'Guided by Voices, ‘Alex Bell’',\n",
       " '(G)I-dle, ‘Nxde’',\n",
       " 'The Weeknd, ‘Take My Breath’',\n",
       " 'Nayeon, ‘Pop!’',\n",
       " 'Bill Callahan, ‘Coyotes’',\n",
       " 'Protoje feat. Lila Iké, ‘Late at Night’',\n",
       " 'Blood Orange, ‘Jesus Freak Lighter’',\n",
       " 'Camila Cabello feat. Maria Becerra, ‘Hasta Los Dientes’',\n",
       " 'Charli XCX and Tiësto, ‘Hot in It’',\n",
       " 'Daddy Yankee and Bad Bunny, ‘X Ultima Vez’',\n",
       " 'The 1975, ‘Part of the Band’',\n",
       " 'Rauw Alejandro and Baby Rasta, ‘Punto 40’',\n",
       " 'Florence + the Machine, ‘Choreomania’',\n",
       " 'Saba feat. Day Wave, ‘2012’',\n",
       " 'Le Sserafim, ‘Antifragile’',\n",
       " 'Alvvays, ‘Pomeranian Spinster’',\n",
       " 'Big Bang, ‘Still Life’',\n",
       " 'Yeah Yeah Yeahs, ‘Blacktop’',\n",
       " 'NCT 127, ‘2 Baddies’',\n",
       " 'Guitarricadelafuente, ‘Mil Y Una Noches’',\n",
       " 'Meghan Trainor, ‘Made You Look’',\n",
       " 'Jin, ‘The Astronaut’',\n",
       " 'Maren Morris, “Circles Around This Town”',\n",
       " 'Residente, ‘This Is Not America’',\n",
       " 'Aespa, ‘Girls’',\n",
       " 'Fontaines D.C., ‘Jackie Down The Line’',\n",
       " 'Joyce Wrice and Kaytranada, ‘Iced Tea’',\n",
       " 'U.S. Girls, ‘So Typically Now’',\n",
       " 'Marina, ‘Pink Convertible’',\n",
       " 'Sabrina Carpenter, ‘Because I Liked a Boy’',\n",
       " 'Taylor Swift, ‘Would’ve Could’ve Should’ve’',\n",
       " 'Gorillaz ft. Thundercat, ‘Cracker Island’',\n",
       " 'Flo Milli, ‘Conceited’',\n",
       " 'Stray Kids, ‘Maniac’',\n",
       " 'Pillbox Patti, ‘Eat Pray Drugs’',\n",
       " 'King Princess, ‘Let Us Die’',\n",
       " 'IVE, ‘After Like’',\n",
       " 'Syd feat. Smino, ‘Right Track’',\n",
       " 'Soul Glo, ‘Coming Correct Is Cheaper’',\n",
       " 'Bad Bunny feat. Bomba Estereo, ‘Ojitos Lindos’',\n",
       " 'Sky Ferreira, ‘Don’t Forget’',\n",
       " 'Rema, ‘Calm Down’',\n",
       " 'Gunna, ‘Banking on Me’',\n",
       " 'King Von and 21 Savage, ‘Don’t Play That’',\n",
       " 'Marshmello and Tokischa, ‘Estilazo’',\n",
       " 'Kaitlin Butts, ‘What Else Can She Do’',\n",
       " 'Pheelz and BNXN, ‘Finesse’',\n",
       " 'Lizzo, ‘About Damn Time’',\n",
       " 'GloRilla feat. Cardi B, ‘Tomorrow 2’',\n",
       " 'FKA Twigs feat. Shygirl, ‘Papi Bones’',\n",
       " 'Smino feat. J. Cole, ‘90 Proof’',\n",
       " 'Seventeen, ‘Hot’',\n",
       " 'Wizkid, ‘Bad to Me’',\n",
       " 'Alex G, ‘Runner’',\n",
       " 'Blackpink, “Pink Venom”',\n",
       " 'Ozzy Osbourne, ‘No Escape From Now’',\n",
       " 'Karol G and Becky G, ‘Mamiii’',\n",
       " 'Jelly Roll, “Son of a Sinner”',\n",
       " 'Oxlade, ‘Ku Lo Sa — A Colors Show’',\n",
       " 'Earl Sweatshirt, ‘2010’',\n",
       " 'Omar Apollo, ‘Evergreen’',\n",
       " 'Muna, ‘Home By Now’',\n",
       " 'Asake feat. Burna Boy, ‘Sungba (Remix)’',\n",
       " 'Midland, ‘The Last Resort’',\n",
       " 'Sam Smith and Kim Petras, ‘Unholy’',\n",
       " 'NewJeans, ‘Hype Boy’',\n",
       " 'Carly Rae Jepsen & Rufus Wainwright, ‘The Loneliest Time’',\n",
       " 'Villano Antillano, ‘BZRP Music Sessions #51’',\n",
       " 'Zach Bryan, ‘Something in the Orange’',\n",
       " 'Noah Cyrus, ‘I Burned L.A. Down’',\n",
       " 'Megan Thee Stallion, ‘Plan B’',\n",
       " 'Ashley McBryde, Caylee Hammack, Brandy Clark, and Pillbox Patti, ‘Bonfire at Tina’s’',\n",
       " 'Doechii & SZA, ‘Persuasive’',\n",
       " 'Burna Boy, ‘Last Last’',\n",
       " 'Rina Sawayama, ‘This Hell’',\n",
       " 'Ice Spice, ‘Munch (Feelin U)’',\n",
       " 'Pusha T, ‘Dreamin’ of the Past’',\n",
       " 'Yahritza Y Su Esencia, ‘Soy El Unico’',\n",
       " 'Kendrick Lamar, ‘N95’',\n",
       " 'Drake feat. 21 Savage, ‘Jimmy Cooks’',\n",
       " 'Harry Styles, ‘As It Was’',\n",
       " 'Beyonce, ‘Break My Soul’',\n",
       " 'Pharrell feat. 21 Savage and Tyler, The Creator, ‘Cash In Cash Out’',\n",
       " 'Quavo and Takeoff, ‘Hotel Lobby’',\n",
       " 'Rosalia, ‘Despecha’',\n",
       " 'Taylor Swift, ‘Karma’',\n",
       " 'Steve Lacy, ‘Bad Habit’',\n",
       " 'Beyonce, ‘Cuff It’',\n",
       " 'Bad Bunny, ‘Titi Me Preguntó’']"
      ]
     },
     "execution_count": 31,
     "metadata": {},
     "output_type": "execute_result"
    }
   ],
   "source": [
    "songs2"
   ]
  },
  {
   "cell_type": "code",
   "execution_count": 32,
   "id": "72b97f4c",
   "metadata": {
    "scrolled": true
   },
   "outputs": [
    {
     "data": {
      "text/plain": [
       "100"
      ]
     },
     "execution_count": 32,
     "metadata": {},
     "output_type": "execute_result"
    }
   ],
   "source": [
    "len(songs2)"
   ]
  },
  {
   "cell_type": "code",
   "execution_count": 33,
   "id": "6a8bc32a",
   "metadata": {},
   "outputs": [
    {
     "data": {
      "text/html": [
       "<div>\n",
       "<style scoped>\n",
       "    .dataframe tbody tr th:only-of-type {\n",
       "        vertical-align: middle;\n",
       "    }\n",
       "\n",
       "    .dataframe tbody tr th {\n",
       "        vertical-align: top;\n",
       "    }\n",
       "\n",
       "    .dataframe thead th {\n",
       "        text-align: right;\n",
       "    }\n",
       "</style>\n",
       "<table border=\"1\" class=\"dataframe\">\n",
       "  <thead>\n",
       "    <tr style=\"text-align: right;\">\n",
       "      <th></th>\n",
       "      <th>artists_songs</th>\n",
       "    </tr>\n",
       "  </thead>\n",
       "  <tbody>\n",
       "    <tr>\n",
       "      <th>0</th>\n",
       "      <td>Lainey Wilson, ‘Heart Like a Truck’</td>\n",
       "    </tr>\n",
       "    <tr>\n",
       "      <th>1</th>\n",
       "      <td>Chronixx, ‘Never Give Up’</td>\n",
       "    </tr>\n",
       "    <tr>\n",
       "      <th>2</th>\n",
       "      <td>Plains, ‘Problem With It’</td>\n",
       "    </tr>\n",
       "    <tr>\n",
       "      <th>3</th>\n",
       "      <td>Hurray for the Riff Raff, ‘Saga’</td>\n",
       "    </tr>\n",
       "    <tr>\n",
       "      <th>4</th>\n",
       "      <td>Camilo ft. Grupo Firme, ‘Alaska’</td>\n",
       "    </tr>\n",
       "    <tr>\n",
       "      <th>...</th>\n",
       "      <td>...</td>\n",
       "    </tr>\n",
       "    <tr>\n",
       "      <th>95</th>\n",
       "      <td>Rosalia, ‘Despecha’</td>\n",
       "    </tr>\n",
       "    <tr>\n",
       "      <th>96</th>\n",
       "      <td>Taylor Swift, ‘Karma’</td>\n",
       "    </tr>\n",
       "    <tr>\n",
       "      <th>97</th>\n",
       "      <td>Steve Lacy, ‘Bad Habit’</td>\n",
       "    </tr>\n",
       "    <tr>\n",
       "      <th>98</th>\n",
       "      <td>Beyonce, ‘Cuff It’</td>\n",
       "    </tr>\n",
       "    <tr>\n",
       "      <th>99</th>\n",
       "      <td>Bad Bunny, ‘Titi Me Preguntó’</td>\n",
       "    </tr>\n",
       "  </tbody>\n",
       "</table>\n",
       "<p>100 rows × 1 columns</p>\n",
       "</div>"
      ],
      "text/plain": [
       "                          artists_songs\n",
       "0   Lainey Wilson, ‘Heart Like a Truck’\n",
       "1             Chronixx, ‘Never Give Up’\n",
       "2             Plains, ‘Problem With It’\n",
       "3      Hurray for the Riff Raff, ‘Saga’\n",
       "4      Camilo ft. Grupo Firme, ‘Alaska’\n",
       "..                                  ...\n",
       "95                  Rosalia, ‘Despecha’\n",
       "96                Taylor Swift, ‘Karma’\n",
       "97              Steve Lacy, ‘Bad Habit’\n",
       "98                   Beyonce, ‘Cuff It’\n",
       "99        Bad Bunny, ‘Titi Me Preguntó’\n",
       "\n",
       "[100 rows x 1 columns]"
      ]
     },
     "execution_count": 33,
     "metadata": {},
     "output_type": "execute_result"
    }
   ],
   "source": [
    "## Constructing the dataframe\n",
    "\n",
    "# each list becomes a column\n",
    "df2 = pd.DataFrame({\"artists_songs\":songs2})\n",
    "df2"
   ]
  },
  {
   "cell_type": "code",
   "execution_count": 34,
   "id": "90015a71",
   "metadata": {
    "scrolled": true
   },
   "outputs": [],
   "source": [
    "# splitting artist and song\n",
    "\n",
    "df2 = df2['artists_songs'].str.split(\",\", n=1, expand=True)\n",
    "# n= Limit number of splits in output.\n",
    "# expand = If True, return DataFrame/MultiIndex expanding dimensionality."
   ]
  },
  {
   "cell_type": "code",
   "execution_count": 35,
   "id": "be06d35b",
   "metadata": {},
   "outputs": [
    {
     "data": {
      "text/html": [
       "<div>\n",
       "<style scoped>\n",
       "    .dataframe tbody tr th:only-of-type {\n",
       "        vertical-align: middle;\n",
       "    }\n",
       "\n",
       "    .dataframe tbody tr th {\n",
       "        vertical-align: top;\n",
       "    }\n",
       "\n",
       "    .dataframe thead th {\n",
       "        text-align: right;\n",
       "    }\n",
       "</style>\n",
       "<table border=\"1\" class=\"dataframe\">\n",
       "  <thead>\n",
       "    <tr style=\"text-align: right;\">\n",
       "      <th></th>\n",
       "      <th>0</th>\n",
       "      <th>1</th>\n",
       "    </tr>\n",
       "  </thead>\n",
       "  <tbody>\n",
       "    <tr>\n",
       "      <th>0</th>\n",
       "      <td>Lainey Wilson</td>\n",
       "      <td>‘Heart Like a Truck’</td>\n",
       "    </tr>\n",
       "    <tr>\n",
       "      <th>1</th>\n",
       "      <td>Chronixx</td>\n",
       "      <td>‘Never Give Up’</td>\n",
       "    </tr>\n",
       "    <tr>\n",
       "      <th>2</th>\n",
       "      <td>Plains</td>\n",
       "      <td>‘Problem With It’</td>\n",
       "    </tr>\n",
       "    <tr>\n",
       "      <th>3</th>\n",
       "      <td>Hurray for the Riff Raff</td>\n",
       "      <td>‘Saga’</td>\n",
       "    </tr>\n",
       "    <tr>\n",
       "      <th>4</th>\n",
       "      <td>Camilo ft. Grupo Firme</td>\n",
       "      <td>‘Alaska’</td>\n",
       "    </tr>\n",
       "  </tbody>\n",
       "</table>\n",
       "</div>"
      ],
      "text/plain": [
       "                          0                      1\n",
       "0             Lainey Wilson   ‘Heart Like a Truck’\n",
       "1                  Chronixx        ‘Never Give Up’\n",
       "2                    Plains      ‘Problem With It’\n",
       "3  Hurray for the Riff Raff                 ‘Saga’\n",
       "4    Camilo ft. Grupo Firme               ‘Alaska’"
      ]
     },
     "execution_count": 35,
     "metadata": {},
     "output_type": "execute_result"
    }
   ],
   "source": [
    "df2.head()"
   ]
  },
  {
   "cell_type": "code",
   "execution_count": 36,
   "id": "c8e7b117",
   "metadata": {
    "scrolled": false
   },
   "outputs": [
    {
     "data": {
      "text/html": [
       "<div>\n",
       "<style scoped>\n",
       "    .dataframe tbody tr th:only-of-type {\n",
       "        vertical-align: middle;\n",
       "    }\n",
       "\n",
       "    .dataframe tbody tr th {\n",
       "        vertical-align: top;\n",
       "    }\n",
       "\n",
       "    .dataframe thead th {\n",
       "        text-align: right;\n",
       "    }\n",
       "</style>\n",
       "<table border=\"1\" class=\"dataframe\">\n",
       "  <thead>\n",
       "    <tr style=\"text-align: right;\">\n",
       "      <th></th>\n",
       "      <th>artists</th>\n",
       "      <th>songs</th>\n",
       "    </tr>\n",
       "  </thead>\n",
       "  <tbody>\n",
       "    <tr>\n",
       "      <th>0</th>\n",
       "      <td>Lainey Wilson</td>\n",
       "      <td>‘Heart Like a Truck’</td>\n",
       "    </tr>\n",
       "    <tr>\n",
       "      <th>1</th>\n",
       "      <td>Chronixx</td>\n",
       "      <td>‘Never Give Up’</td>\n",
       "    </tr>\n",
       "    <tr>\n",
       "      <th>2</th>\n",
       "      <td>Plains</td>\n",
       "      <td>‘Problem With It’</td>\n",
       "    </tr>\n",
       "    <tr>\n",
       "      <th>3</th>\n",
       "      <td>Hurray for the Riff Raff</td>\n",
       "      <td>‘Saga’</td>\n",
       "    </tr>\n",
       "    <tr>\n",
       "      <th>4</th>\n",
       "      <td>Camilo ft. Grupo Firme</td>\n",
       "      <td>‘Alaska’</td>\n",
       "    </tr>\n",
       "    <tr>\n",
       "      <th>...</th>\n",
       "      <td>...</td>\n",
       "      <td>...</td>\n",
       "    </tr>\n",
       "    <tr>\n",
       "      <th>95</th>\n",
       "      <td>Rosalia</td>\n",
       "      <td>‘Despecha’</td>\n",
       "    </tr>\n",
       "    <tr>\n",
       "      <th>96</th>\n",
       "      <td>Taylor Swift</td>\n",
       "      <td>‘Karma’</td>\n",
       "    </tr>\n",
       "    <tr>\n",
       "      <th>97</th>\n",
       "      <td>Steve Lacy</td>\n",
       "      <td>‘Bad Habit’</td>\n",
       "    </tr>\n",
       "    <tr>\n",
       "      <th>98</th>\n",
       "      <td>Beyonce</td>\n",
       "      <td>‘Cuff It’</td>\n",
       "    </tr>\n",
       "    <tr>\n",
       "      <th>99</th>\n",
       "      <td>Bad Bunny</td>\n",
       "      <td>‘Titi Me Preguntó’</td>\n",
       "    </tr>\n",
       "  </tbody>\n",
       "</table>\n",
       "<p>100 rows × 2 columns</p>\n",
       "</div>"
      ],
      "text/plain": [
       "                     artists                  songs\n",
       "0              Lainey Wilson   ‘Heart Like a Truck’\n",
       "1                   Chronixx        ‘Never Give Up’\n",
       "2                     Plains      ‘Problem With It’\n",
       "3   Hurray for the Riff Raff                 ‘Saga’\n",
       "4     Camilo ft. Grupo Firme               ‘Alaska’\n",
       "..                       ...                    ...\n",
       "95                   Rosalia             ‘Despecha’\n",
       "96              Taylor Swift                ‘Karma’\n",
       "97                Steve Lacy            ‘Bad Habit’\n",
       "98                   Beyonce              ‘Cuff It’\n",
       "99                 Bad Bunny     ‘Titi Me Preguntó’\n",
       "\n",
       "[100 rows x 2 columns]"
      ]
     },
     "execution_count": 36,
     "metadata": {},
     "output_type": "execute_result"
    }
   ],
   "source": [
    "#adding column names\n",
    "\n",
    "cols=[\"artists\", \"songs\"]\n",
    "df2.columns=cols\n",
    "df2"
   ]
  },
  {
   "cell_type": "code",
   "execution_count": 37,
   "id": "662eba11",
   "metadata": {},
   "outputs": [],
   "source": [
    "df2[\"songs\"] = df2[\"songs\"].str.replace(\" \",\"\")"
   ]
  },
  {
   "cell_type": "code",
   "execution_count": 38,
   "id": "08a2cdfa",
   "metadata": {},
   "outputs": [],
   "source": [
    "df2[\"songs\"] = df2[\"songs\"].str.strip(\"‘’\")"
   ]
  },
  {
   "cell_type": "code",
   "execution_count": 39,
   "id": "95403b19",
   "metadata": {},
   "outputs": [
    {
     "data": {
      "text/html": [
       "<div>\n",
       "<style scoped>\n",
       "    .dataframe tbody tr th:only-of-type {\n",
       "        vertical-align: middle;\n",
       "    }\n",
       "\n",
       "    .dataframe tbody tr th {\n",
       "        vertical-align: top;\n",
       "    }\n",
       "\n",
       "    .dataframe thead th {\n",
       "        text-align: right;\n",
       "    }\n",
       "</style>\n",
       "<table border=\"1\" class=\"dataframe\">\n",
       "  <thead>\n",
       "    <tr style=\"text-align: right;\">\n",
       "      <th></th>\n",
       "      <th>artists</th>\n",
       "      <th>songs</th>\n",
       "    </tr>\n",
       "  </thead>\n",
       "  <tbody>\n",
       "    <tr>\n",
       "      <th>0</th>\n",
       "      <td>Morgan Wallen</td>\n",
       "      <td>Last Night</td>\n",
       "    </tr>\n",
       "    <tr>\n",
       "      <th>1</th>\n",
       "      <td>Miley Cyrus</td>\n",
       "      <td>Flowers</td>\n",
       "    </tr>\n",
       "    <tr>\n",
       "      <th>2</th>\n",
       "      <td>Luke Combs</td>\n",
       "      <td>Fast Car</td>\n",
       "    </tr>\n",
       "    <tr>\n",
       "      <th>3</th>\n",
       "      <td>Rema &amp; Selena Gomez</td>\n",
       "      <td>Calm Down</td>\n",
       "    </tr>\n",
       "    <tr>\n",
       "      <th>4</th>\n",
       "      <td>Lil Durk Featuring J. Cole</td>\n",
       "      <td>All My Life</td>\n",
       "    </tr>\n",
       "    <tr>\n",
       "      <th>...</th>\n",
       "      <td>...</td>\n",
       "      <td>...</td>\n",
       "    </tr>\n",
       "    <tr>\n",
       "      <th>95</th>\n",
       "      <td>Rosalia</td>\n",
       "      <td>Despecha</td>\n",
       "    </tr>\n",
       "    <tr>\n",
       "      <th>96</th>\n",
       "      <td>Taylor Swift</td>\n",
       "      <td>Karma</td>\n",
       "    </tr>\n",
       "    <tr>\n",
       "      <th>97</th>\n",
       "      <td>Steve Lacy</td>\n",
       "      <td>BadHabit</td>\n",
       "    </tr>\n",
       "    <tr>\n",
       "      <th>98</th>\n",
       "      <td>Beyonce</td>\n",
       "      <td>CuffIt</td>\n",
       "    </tr>\n",
       "    <tr>\n",
       "      <th>99</th>\n",
       "      <td>Bad Bunny</td>\n",
       "      <td>TitiMePreguntó</td>\n",
       "    </tr>\n",
       "  </tbody>\n",
       "</table>\n",
       "<p>200 rows × 2 columns</p>\n",
       "</div>"
      ],
      "text/plain": [
       "                       artists           songs\n",
       "0                Morgan Wallen      Last Night\n",
       "1                  Miley Cyrus         Flowers\n",
       "2                   Luke Combs        Fast Car\n",
       "3          Rema & Selena Gomez       Calm Down\n",
       "4   Lil Durk Featuring J. Cole     All My Life\n",
       "..                         ...             ...\n",
       "95                     Rosalia        Despecha\n",
       "96                Taylor Swift           Karma\n",
       "97                  Steve Lacy        BadHabit\n",
       "98                     Beyonce          CuffIt\n",
       "99                   Bad Bunny  TitiMePreguntó\n",
       "\n",
       "[200 rows x 2 columns]"
      ]
     },
     "execution_count": 39,
     "metadata": {},
     "output_type": "execute_result"
    }
   ],
   "source": [
    "# concatenating both Billboard and Rollingstone dataframes along the index.\n",
    "\n",
    "final_df = pd.concat([df, df2], axis=0)\n",
    "final_df"
   ]
  },
  {
   "cell_type": "code",
   "execution_count": 40,
   "id": "cf04d2b2",
   "metadata": {},
   "outputs": [
    {
     "data": {
      "text/plain": [
       "(200, 2)"
      ]
     },
     "execution_count": 40,
     "metadata": {},
     "output_type": "execute_result"
    }
   ],
   "source": [
    "final_df.shape"
   ]
  },
  {
   "cell_type": "code",
   "execution_count": null,
   "id": "db3adffb",
   "metadata": {},
   "outputs": [],
   "source": []
  }
 ],
 "metadata": {
  "kernelspec": {
   "display_name": "Python 3 (ipykernel)",
   "language": "python",
   "name": "python3"
  },
  "language_info": {
   "codemirror_mode": {
    "name": "ipython",
    "version": 3
   },
   "file_extension": ".py",
   "mimetype": "text/x-python",
   "name": "python",
   "nbconvert_exporter": "python",
   "pygments_lexer": "ipython3",
   "version": "3.9.13"
  }
 },
 "nbformat": 4,
 "nbformat_minor": 5
}
